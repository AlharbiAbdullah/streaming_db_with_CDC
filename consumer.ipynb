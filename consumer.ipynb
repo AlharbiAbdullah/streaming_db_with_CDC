{
 "cells": [
  {
   "cell_type": "code",
   "execution_count": 1,
   "metadata": {},
   "outputs": [],
   "source": [
    "from kafka import KafkaConsumer"
   ]
  },
  {
   "cell_type": "code",
   "execution_count": null,
   "metadata": {},
   "outputs": [],
   "source": [
    "# Testing consumer\n",
    "\n",
    "bootstrap_servers = ['localhost:29092']\n",
    "\n",
    "topic_name = 'northwindstrem' \n",
    "\n",
    "consumer = KafkaConsumer(topic_name, auto_offset_reset ='earliest', \n",
    "                        bootstrap_servers = bootstrap_servers)\n",
    "\n",
    "for msg in consumer:\n",
    "    print(f'Topic Name: {msg.topic} , Message: {msg.value}')"
   ]
  },
  {
   "cell_type": "code",
   "execution_count": null,
   "metadata": {},
   "outputs": [],
   "source": [
    "# Consume data fron postgres\n",
    "\n",
    "# Testing consumer\n",
    "\n",
    "bootstrap_servers = ['localhost:29092']\n",
    "\n",
    "topic_name = \"source.public.customers_streaming\"\n",
    "\n",
    "consumer = KafkaConsumer(topic_name, auto_offset_reset ='earliest', \n",
    "                        bootstrap_servers = bootstrap_servers)\n",
    "\n",
    "for msg in consumer:\n",
    "    print(f'Topic Name: {msg.topic} , Message: {msg.value}')"
   ]
  },
  {
   "cell_type": "code",
   "execution_count": null,
   "metadata": {},
   "outputs": [],
   "source": []
  }
 ],
 "metadata": {
  "kernelspec": {
   "display_name": "env",
   "language": "python",
   "name": "python3"
  },
  "language_info": {
   "codemirror_mode": {
    "name": "ipython",
    "version": 3
   },
   "file_extension": ".py",
   "mimetype": "text/x-python",
   "name": "python",
   "nbconvert_exporter": "python",
   "pygments_lexer": "ipython3",
   "version": "3.10.12"
  }
 },
 "nbformat": 4,
 "nbformat_minor": 2
}
